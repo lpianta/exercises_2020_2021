{
 "metadata": {
  "language_info": {
   "codemirror_mode": {
    "name": "ipython",
    "version": 3
   },
   "file_extension": ".py",
   "mimetype": "text/x-python",
   "name": "python",
   "nbconvert_exporter": "python",
   "pygments_lexer": "ipython3",
   "version": "3.8.6-final"
  },
  "orig_nbformat": 2,
  "kernelspec": {
   "name": "python38664bita2c3b62c36c84dcba56bbed418361bd6",
   "display_name": "Python 3.8.6 64-bit",
   "language": "python"
  }
 },
 "nbformat": 4,
 "nbformat_minor": 2,
 "cells": [
  {
   "source": [
    "Source and credits: https://www.w3resource.com/python-exercises/re/#EDITOR"
   ],
   "cell_type": "markdown",
   "metadata": {}
  },
  {
   "cell_type": "code",
   "execution_count": 2,
   "metadata": {},
   "outputs": [],
   "source": [
    "import re"
   ]
  },
  {
   "source": [
    "1. Write a Python program to check that a string contains only a certain set of characters (in this case a-z, A-Z and 0-9)."
   ],
   "cell_type": "markdown",
   "metadata": {}
  },
  {
   "cell_type": "code",
   "execution_count": 3,
   "metadata": {},
   "outputs": [
    {
     "output_type": "stream",
     "name": "stdout",
     "text": [
      "String contains some special characters, or a new line, or a space\nString contains only alphanumeric character\n"
     ]
    }
   ],
   "source": [
    "def alphanum_matcher(string):\n",
    "    finder = re.findall('[a-zA-Z0-9]', string)\n",
    "    if len(finder) == len(string):\n",
    "        print('String contains only alphanumeric character')\n",
    "    else:\n",
    "        print('String contains some special characters, or a new line, or a space')\n",
    "\n",
    "alphanum_matcher('123ab c234')\n",
    "alphanum_matcher('123abc234')"
   ]
  },
  {
   "source": [
    "2. Write a Python program that matches a string that has an a followed by zero or more b's. "
   ],
   "cell_type": "markdown",
   "metadata": {}
  },
  {
   "cell_type": "code",
   "execution_count": 4,
   "metadata": {},
   "outputs": [
    {
     "output_type": "stream",
     "name": "stdout",
     "text": [
      "Match!\nMatch!\nNo match!\nMatch!\n"
     ]
    }
   ],
   "source": [
    "def a_and_b(string):\n",
    "    finder = re.search('ab*', string)\n",
    "    if finder:\n",
    "        print('Match!')\n",
    "    else:\n",
    "        print('No match!')\n",
    "\n",
    "a_and_b('abba')\n",
    "a_and_b('a')\n",
    "a_and_b('cde')\n",
    "a_and_b('cane')\n",
    "\n",
    "# asking zero or more b basically means that any string that has an 'a' in it will match"
   ]
  },
  {
   "source": [
    "3. Write a Python program that matches a string that has an a followed by one or more b's."
   ],
   "cell_type": "markdown",
   "metadata": {}
  },
  {
   "cell_type": "code",
   "execution_count": 5,
   "metadata": {},
   "outputs": [
    {
     "output_type": "stream",
     "name": "stdout",
     "text": [
      "Match!\nNo match!\nMatch!\n"
     ]
    }
   ],
   "source": [
    "def a_and_b1(string):\n",
    "    finder = re.search('ab+', string)\n",
    "    if finder:\n",
    "        print('Match!')\n",
    "    else:\n",
    "        print('No match!')\n",
    "\n",
    "a_and_b1('abba')\n",
    "a_and_b1('acca')\n",
    "a_and_b1('baba')"
   ]
  },
  {
   "source": [
    "4. Write a Python program that matches a string that has an a followed by zero or one 'b'."
   ],
   "cell_type": "markdown",
   "metadata": {}
  },
  {
   "cell_type": "code",
   "execution_count": 6,
   "metadata": {},
   "outputs": [
    {
     "output_type": "stream",
     "name": "stdout",
     "text": [
      "Match!\nMatch!\nMatch!\nNo match!\n"
     ]
    }
   ],
   "source": [
    "def a_and_b2(string):\n",
    "    finder = re.search('ab?', string)\n",
    "    if finder:\n",
    "        print('Match!')\n",
    "    else:\n",
    "        print('No match!')\n",
    "\n",
    "a_and_b2('abba')\n",
    "a_and_b2('adda')\n",
    "a_and_b2('etna')\n",
    "a_and_b2('nene')\n",
    "\n",
    "# as for exercise 2, any string containing 'a' will return a match"
   ]
  },
  {
   "source": [
    "5. Write a Python program that matches a string that has an a followed by three 'b'."
   ],
   "cell_type": "markdown",
   "metadata": {}
  },
  {
   "cell_type": "code",
   "execution_count": 7,
   "metadata": {},
   "outputs": [
    {
     "output_type": "stream",
     "name": "stdout",
     "text": [
      "No match!\nNo match!\nMatch!\n"
     ]
    }
   ],
   "source": [
    "def a_and_3b(string):\n",
    "    finder = re.search('ab{3}', string)\n",
    "    if finder:\n",
    "        print('Match!')\n",
    "    else:\n",
    "        print('No match!')\n",
    "\n",
    "a_and_3b('aba')\n",
    "a_and_3b('abba')\n",
    "a_and_3b('abbba')"
   ]
  },
  {
   "source": [
    "6. Write a Python program that matches a string that has an a followed by two to three 'b'."
   ],
   "cell_type": "markdown",
   "metadata": {}
  },
  {
   "cell_type": "code",
   "execution_count": 8,
   "metadata": {},
   "outputs": [
    {
     "output_type": "stream",
     "name": "stdout",
     "text": [
      "No match!\nMatch!\nMatch!\nNo match!\n"
     ]
    }
   ],
   "source": [
    "def a_and_2_3_b(string):\n",
    "    finder = re.search('ab{2,3}', string)\n",
    "    if finder:\n",
    "        print('Match!')\n",
    "    else:\n",
    "        print('No match!')\n",
    "\n",
    "a_and_2_3_b('aba')\n",
    "a_and_2_3_b('abba')\n",
    "a_and_2_3_b('babbba')\n",
    "a_and_2_3_b('ala')"
   ]
  },
  {
   "source": [
    "7. Write a Python program to find sequences of lowercase letters joined with a underscore"
   ],
   "cell_type": "markdown",
   "metadata": {}
  },
  {
   "cell_type": "code",
   "execution_count": 9,
   "metadata": {},
   "outputs": [
    {
     "output_type": "stream",
     "name": "stdout",
     "text": [
      "Match!\nNo match!\nNo match!\nMatch!\nSecond function:\nNo match!\nNo match!\nMatch!\n"
     ]
    }
   ],
   "source": [
    "# this check only the two letters around the underscore\n",
    "\n",
    "def lowercase_underscore(string):\n",
    "    finder = re.search('[a-z]_[a-z]', string)\n",
    "    if finder:\n",
    "        print('Match!')\n",
    "    else:\n",
    "        print('No match!')\n",
    "\n",
    "lowercase_underscore('asdru_bale')\n",
    "lowercase_underscore('ASDRU_bale')\n",
    "lowercase_underscore('asdru_BALE')\n",
    "lowercase_underscore('asdru_bAle')\n",
    "\n",
    "# this check the whole string\n",
    "\n",
    "def lowercase_underscore1(string):\n",
    "    finder = re.search('^[a-z]+_[a-z]+$', string)\n",
    "    if finder:\n",
    "        print('Match!')\n",
    "    else:\n",
    "        print('No match!')\n",
    "\n",
    "print('Second function:')\n",
    "lowercase_underscore1('asdru_bAle')\n",
    "lowercase_underscore1('Asdru_bale')\n",
    "lowercase_underscore1('asdru_bale')"
   ]
  },
  {
   "source": [
    "8. Write a Python program to find the sequences of one upper case letter followed by lower case letters."
   ],
   "cell_type": "markdown",
   "metadata": {}
  },
  {
   "cell_type": "code",
   "execution_count": 10,
   "metadata": {},
   "outputs": [
    {
     "output_type": "stream",
     "name": "stdout",
     "text": [
      "No match!\nMatch!\nNo match!\nNo match!\n"
     ]
    }
   ],
   "source": [
    "def upper_lower(string):\n",
    "    finder = re.search('^[A-Z][a-z]+', string)\n",
    "    if finder:\n",
    "        print('Match!')\n",
    "    else:\n",
    "        print('No match!')\n",
    "\n",
    "upper_lower('python')\n",
    "upper_lower('Python')\n",
    "upper_lower('PYthon')\n",
    "upper_lower('pyThon') # doesn't match because the '^' in the regex tells that the string has to start with capital to match."
   ]
  },
  {
   "source": [
    "9. Write a Python program that matches a string that has an 'a' followed by anything, ending in 'b'."
   ],
   "cell_type": "markdown",
   "metadata": {}
  },
  {
   "cell_type": "code",
   "execution_count": 11,
   "metadata": {},
   "outputs": [
    {
     "output_type": "stream",
     "name": "stdout",
     "text": [
      "No match!\nMatch!\nMatch!\nMatch!\n"
     ]
    }
   ],
   "source": [
    "def a_anything_b(string):\n",
    "    finder = re.search('[a].+[b]$', string)\n",
    "    if finder:\n",
    "        print('Match!')\n",
    "    else:\n",
    "        print('No match!')\n",
    "\n",
    "a_anything_b('ab') # doesn't match because there is no character between 'a' and 'b', to match the '+' in the regex should be swapped with '*'\n",
    "a_anything_b('acb')\n",
    "a_anything_b('achjerb')\n",
    "a_anything_b('qweeradfgknrgneob') # it doesn't specify the 'a' should be the first character of the string, in that case '^' should be added at the start of the regex"
   ]
  },
  {
   "source": [
    "10. Write a Python program that matches a word at the beginning of a string."
   ],
   "cell_type": "markdown",
   "metadata": {}
  },
  {
   "cell_type": "code",
   "execution_count": 12,
   "metadata": {},
   "outputs": [
    {
     "output_type": "stream",
     "name": "stdout",
     "text": [
      "Match!\nNo match!\nNo match!\nMatch!\n"
     ]
    }
   ],
   "source": [
    "def word_start(string):\n",
    "    finder = re.search('^\\w+', string)\n",
    "    if finder:\n",
    "        print('Match!')\n",
    "    else:\n",
    "        print('No match!')\n",
    "\n",
    "word_start('Wow! A string!')\n",
    "word_start('!Wow! A string!')\n",
    "word_start(\"-It's a string!- he said.\")\n",
    "word_start('lowercase')"
   ]
  },
  {
   "source": [
    "11. Write a Python program that matches a word at the end of string, with optional punctuation."
   ],
   "cell_type": "markdown",
   "metadata": {}
  },
  {
   "cell_type": "code",
   "execution_count": 13,
   "metadata": {},
   "outputs": [
    {
     "output_type": "stream",
     "name": "stdout",
     "text": [
      "Match!\nMatch!\nNo match!\nMatch!\n"
     ]
    }
   ],
   "source": [
    "def word_end_punctuation(string):\n",
    "    finder = re.search('\\w\\S*$', string)\n",
    "    if finder:\n",
    "        print('Match!')\n",
    "    else:\n",
    "        print('No match!')\n",
    "\n",
    "word_end_punctuation('cane')\n",
    "word_end_punctuation('cane!')\n",
    "word_end_punctuation('cane ')\n",
    "word_end_punctuation('Look, there is a dog!')"
   ]
  },
  {
   "source": [
    "12. Write a Python program that matches a word containing 'z'."
   ],
   "cell_type": "markdown",
   "metadata": {}
  },
  {
   "cell_type": "code",
   "execution_count": 14,
   "metadata": {},
   "outputs": [
    {
     "output_type": "stream",
     "name": "stdout",
     "text": [
      "Match!\nMatch!\nMatch!\nNo match!\n"
     ]
    }
   ],
   "source": [
    "def word_z(string):\n",
    "    finder = re.search('\\w+z', string)\n",
    "    if finder:\n",
    "        print('Match!')\n",
    "    else:\n",
    "        print('No match!')\n",
    "\n",
    "word_z('zazza')\n",
    "word_z('lazy')\n",
    "word_z('You are lazy!')\n",
    "word_z(\"This doesn't match\")"
   ]
  },
  {
   "source": [
    "13. Write a Python program that matches a word containing 'z', not at the start or end of the word."
   ],
   "cell_type": "markdown",
   "metadata": {}
  },
  {
   "cell_type": "code",
   "execution_count": 15,
   "metadata": {},
   "outputs": [
    {
     "output_type": "stream",
     "name": "stdout",
     "text": [
      "Match!\nNo match!\nNo match!\nMatch!\nNo match!\n"
     ]
    }
   ],
   "source": [
    "def middle_z_word(string):\n",
    "    finder = re.search('\\w[^z]+z+[^z]', string)\n",
    "    if finder:\n",
    "        print('Match!')\n",
    "    else:\n",
    "        print('No match!')\n",
    "\n",
    "middle_z_word('lazy')\n",
    "middle_z_word('zed')\n",
    "middle_z_word(\"This doesn't match\")\n",
    "middle_z_word('alzata')\n",
    "middle_z_word('bluz')"
   ]
  },
  {
   "source": [
    "14. Write a Python program to match a string that contains only upper and lowercase letters, numbers, and underscores."
   ],
   "cell_type": "markdown",
   "metadata": {}
  },
  {
   "cell_type": "code",
   "execution_count": 16,
   "metadata": {},
   "outputs": [
    {
     "output_type": "stream",
     "name": "stdout",
     "text": [
      "No match!\nMatch!\nMatch!\nNo match!\n"
     ]
    }
   ],
   "source": [
    "def alpha_digit_underscore(string):\n",
    "    finder = re.search('^[a-zA-Z0-9_]*$', string)\n",
    "    if finder:\n",
    "        print('Match!')\n",
    "    else:\n",
    "        print('No match!')\n",
    "\n",
    "\n",
    "alpha_digit_underscore('This string has some whitespace')\n",
    "alpha_digit_underscore('This_one_no')\n",
    "alpha_digit_underscore('Also_digits_1_2_3')\n",
    "alpha_digit_underscore('Punctuation_?')"
   ]
  },
  {
   "source": [
    "15. Write a Python program where a string will start with a specific number."
   ],
   "cell_type": "markdown",
   "metadata": {}
  },
  {
   "source": [
    "def number_starter(number, string):\n",
    "    finder = re.search('^{}'.format(number), string)\n",
    "    if finder:\n",
    "        print('Match!')\n",
    "    else:\n",
    "        print('No match!')\n",
    "\n",
    "number_starter(5, '5salt')\n",
    "number_starter('4', '5salt')"
   ],
   "cell_type": "code",
   "metadata": {},
   "execution_count": 17,
   "outputs": [
    {
     "output_type": "stream",
     "name": "stdout",
     "text": [
      "Match!\nNo match!\n"
     ]
    }
   ]
  },
  {
   "source": [
    "16. Write a Python program to remove leading zeros from an IP address."
   ],
   "cell_type": "markdown",
   "metadata": {}
  },
  {
   "cell_type": "code",
   "execution_count": 18,
   "metadata": {},
   "outputs": [
    {
     "output_type": "stream",
     "name": "stdout",
     "text": [
      "216.8.94.196\n"
     ]
    }
   ],
   "source": [
    "def remove_lead_zero(ip):\n",
    "    string = re.sub('\\.[0]+', '.', ip)\n",
    "    print(string)\n",
    "\n",
    "remove_lead_zero('216.08.094.196')"
   ]
  },
  {
   "source": [
    "17. Write a Python program to check for a number at the end of a string."
   ],
   "cell_type": "markdown",
   "metadata": {}
  },
  {
   "cell_type": "code",
   "execution_count": 19,
   "metadata": {},
   "outputs": [
    {
     "output_type": "stream",
     "name": "stdout",
     "text": [
      "Match!\nNo match!\nSecond function:\nMatch!\nMatch!\nNo match!\n"
     ]
    }
   ],
   "source": [
    "# this for a given number\n",
    "\n",
    "def number_ender(number, string):\n",
    "    finder = re.search(f'{number}$', string)\n",
    "    if finder:\n",
    "        print('Match!')\n",
    "    else:\n",
    "        print('No match!')\n",
    "\n",
    "# this for any number\n",
    "\n",
    "def number_ender2(string):\n",
    "    finder = re.search('[0-9]+$', string)\n",
    "    if finder:\n",
    "        print('Match!')\n",
    "    else:\n",
    "        print('No match!')\n",
    "\n",
    "number_ender(1, 'starwars1')\n",
    "number_ender(1, 'starwars2')\n",
    "print('Second function:')\n",
    "number_ender2('starwars1')\n",
    "number_ender2('starwars2')\n",
    "number_ender2('1starwars')"
   ]
  },
  {
   "source": [
    "18. Write a Python program to search the numbers (0-9) of length between 1 to 3 in a given string.\n",
    "\n",
    "\"Exercises number 1, 12, 13, and 345 are important\""
   ],
   "cell_type": "markdown",
   "metadata": {}
  },
  {
   "cell_type": "code",
   "execution_count": 20,
   "metadata": {},
   "outputs": [
    {
     "output_type": "stream",
     "name": "stdout",
     "text": [
      "Match!\n1\n12\n13\n345\n"
     ]
    }
   ],
   "source": [
    "def one_to_three_dig(string):\n",
    "    finder = re.findall('[0-9]{1,3}', string)\n",
    "    if finder:\n",
    "        print('Match!')\n",
    "        for i in finder:\n",
    "            print(i)\n",
    "    else:\n",
    "        print('No match!')\n",
    "\n",
    "one_to_three_dig('Exercises number 1, 12, 13, and 345 are importan')"
   ]
  },
  {
   "source": [
    "19. Write a Python program to search some literals strings in a string.\n",
    "Sample text : 'The quick brown fox jumps over the lazy dog.'\n",
    "Searched words : 'fox', 'dog', 'horse'"
   ],
   "cell_type": "markdown",
   "metadata": {}
  },
  {
   "cell_type": "code",
   "execution_count": 21,
   "metadata": {},
   "outputs": [
    {
     "output_type": "stream",
     "name": "stdout",
     "text": [
      "Searching for fox in: \"The quick brown fox jumps over the lazy dog.\"\nMatch! \"fox\" is in \"The quick brown fox jumps over the lazy dog.\" from 16 to 19\nSearching for dog in: \"The quick brown fox jumps over the lazy dog.\"\nMatch! \"dog\" is in \"The quick brown fox jumps over the lazy dog.\" from 40 to 43\nSearching for horse in: \"The quick brown fox jumps over the lazy dog.\"\nNo match!\n"
     ]
    }
   ],
   "source": [
    "def search_literal(words_list, string):\n",
    "    for i in words_list:\n",
    "        print(f'Searching for {i} in: \"{string}\"')\n",
    "        if re.search(i, string):\n",
    "            print(f'Match! \"{i}\" is in \"{string}\" from {re.search(i, string).start()} to {re.search(i, string).end()}')\n",
    "        else:\n",
    "            print('No match!')\n",
    "\n",
    "search_literal(['fox', 'dog', 'horse'], 'The quick brown fox jumps over the lazy dog.')"
   ]
  },
  {
   "source": [
    "20. Write a Python program to search a literals string in a string and also find the location within the original string where the pattern occurs. \n",
    "Sample text : 'The quick brown fox jumps over the lazy dog.'\n",
    "Searched words : 'fox'"
   ],
   "cell_type": "markdown",
   "metadata": {}
  },
  {
   "cell_type": "code",
   "execution_count": 22,
   "metadata": {},
   "outputs": [
    {
     "output_type": "stream",
     "name": "stdout",
     "text": [
      "Searching for fox in: \"The quick brown fox jumps over the lazy dog.\"\nMatch! \"fox\" is in \"The quick brown fox jumps over the lazy dog.\" from 16 to 19\nSearching for dog in: \"The quick brown fox jumps over the lazy dog.\"\nMatch! \"dog\" is in \"The quick brown fox jumps over the lazy dog.\" from 40 to 43\nSearching for horse in: \"The quick brown fox jumps over the lazy dog.\"\nNo match!\n"
     ]
    }
   ],
   "source": [
    "# same as the previous one\n",
    "\n",
    "def search_literal(words_list, string):\n",
    "    for i in words_list:\n",
    "        print(f'Searching for {i} in: \"{string}\"')\n",
    "        if re.search(i, string):\n",
    "            print(f'Match! \"{i}\" is in \"{string}\" from {re.search(i, string).start()} to {re.search(i, string).end()}')\n",
    "        else:\n",
    "            print('No match!')\n",
    "\n",
    "search_literal(['fox', 'dog', 'horse'], 'The quick brown fox jumps over the lazy dog.')"
   ]
  },
  {
   "source": [
    "21. Write a Python program to find the substrings within a string.\n",
    "\n",
    "Sample text :\n",
    "\n",
    "'Python exercises, PHP exercises, C# exercises'\n",
    "\n",
    "Pattern :\n",
    "\n",
    "'exercises'\n",
    "\n",
    "Note: There are two instances of exercises in the input string."
   ],
   "cell_type": "markdown",
   "metadata": {}
  },
  {
   "cell_type": "code",
   "execution_count": 23,
   "metadata": {},
   "outputs": [
    {
     "output_type": "stream",
     "name": "stdout",
     "text": [
      "Match! \"exercises\" appears 3 times!\nStarts at char 7 and end at char 16\nStarts at char 22 and end at char 31\nStarts at char 36 and end at char 45\n"
     ]
    }
   ],
   "source": [
    "def substrings(pattern, string):\n",
    "    finder = re.findall(f'{pattern}', string)\n",
    "    if finder:\n",
    "        print(f'Match! \"{pattern}\" appears {len(finder)} times!')\n",
    "        finder1 = re.finditer(f'{pattern}', f'{string}')\n",
    "        for i in finder1:\n",
    "            print(f'Starts at char {i.start()} and end at char {i.end()}')\n",
    "    else:\n",
    "        print('No match!')\n",
    "\n",
    "substrings('exercises', 'Python exercises, PHP exercises, C# exercises')\n"
   ]
  },
  {
   "source": [
    "22. Write a Python program to find the occurrence and position of the substrings within a string."
   ],
   "cell_type": "markdown",
   "metadata": {}
  },
  {
   "cell_type": "code",
   "execution_count": 24,
   "metadata": {},
   "outputs": [],
   "source": [
    "# already done above, to take just the position I'll use the .start() and .end() on the finditer object."
   ]
  },
  {
   "source": [
    "23. Write a Python program to replace whitespaces with an underscore and vice versa."
   ],
   "cell_type": "markdown",
   "metadata": {}
  },
  {
   "cell_type": "code",
   "execution_count": 25,
   "metadata": {},
   "outputs": [
    {
     "output_type": "stream",
     "name": "stdout",
     "text": [
      "Space_should_be_underscore\nUnderscore should be spaces\n"
     ]
    }
   ],
   "source": [
    "def whitespace_underscore(string):\n",
    "    new_string = re.sub(' ', '-', string)\n",
    "    new_string1 = re.sub('_', ' ', new_string)\n",
    "    new_string2= re.sub('-', '_', new_string1)\n",
    "    print(new_string2)\n",
    "\n",
    "whitespace_underscore('Space should be underscore')\n",
    "whitespace_underscore('Underscore_should_be_spaces')"
   ]
  },
  {
   "source": [
    "24. Write a Python program to extract year, month and date from an url."
   ],
   "cell_type": "markdown",
   "metadata": {}
  },
  {
   "cell_type": "code",
   "execution_count": 26,
   "metadata": {},
   "outputs": [
    {
     "output_type": "stream",
     "name": "stdout",
     "text": [
      "('2016', '09', '02')\n"
     ]
    }
   ],
   "source": [
    "def extract_date(url):\n",
    "    finder = re.findall('/(\\d{4})/(\\d{1,2})/(\\d{1,2})/', url)\n",
    "    if finder:\n",
    "        for i in finder:\n",
    "            print(i)\n",
    "    else:\n",
    "        print('No date in url.')\n",
    "\n",
    "extract_date(\"https://www.washingtonpost.com/news/football-insider/wp/2016/09/02/odell-beckhams-fame-rests-on-one-stupid-little-ball-josh-norman-tells-author/\")"
   ]
  },
  {
   "source": [
    "25. Write a Python program to convert a date of yyyy-mm-dd format to dd-mm-yyyy format."
   ],
   "cell_type": "markdown",
   "metadata": {}
  },
  {
   "cell_type": "code",
   "execution_count": 32,
   "metadata": {},
   "outputs": [
    {
     "output_type": "stream",
     "name": "stdout",
     "text": [
      "21-12-2012\n"
     ]
    }
   ],
   "source": [
    "def convert_date_format(date):\n",
    "    string = re.sub('(\\d{4})-(\\d{1,2})-(\\d{1,2})', '\\\\3-\\\\2-\\\\1', date)\n",
    "    print(string)\n",
    "\n",
    "convert_date_format('2012-12-21')"
   ]
  },
  {
   "source": [
    "26. Write a Python program to match if two words from a list of words starting with letter 'P'."
   ],
   "cell_type": "markdown",
   "metadata": {}
  },
  {
   "cell_type": "code",
   "execution_count": 34,
   "metadata": {},
   "outputs": [
    {
     "output_type": "stream",
     "name": "stdout",
     "text": [
      "Problem\nPorcupine\n"
     ]
    }
   ],
   "source": [
    "def capital_p_words(word_list):\n",
    "    for i in word_list:\n",
    "        if re.search('^P', i):\n",
    "            print(i)\n",
    "\n",
    "capital_p_words(['Problem', 'Alpaca', 'Porcupine', 'aPache'])"
   ]
  },
  {
   "source": [
    "27. Write a Python program to separate and print the numbers of a given string."
   ],
   "cell_type": "markdown",
   "metadata": {}
  },
  {
   "cell_type": "code",
   "execution_count": 39,
   "metadata": {},
   "outputs": [
    {
     "output_type": "stream",
     "name": "stdout",
     "text": [
      "\n1\n\n1\n2\n3\n"
     ]
    }
   ],
   "source": [
    "def separate_number(string):\n",
    "    splitter = re.split('\\D+', string)\n",
    "    for i in splitter:\n",
    "        numbers = re.sub('\\D', '', i)\n",
    "        print(numbers)\n",
    "\n",
    "separate_number('one 1')\n",
    "separate_number('one 1, two 2, three 3')"
   ]
  },
  {
   "source": [
    "28. Write a Python program to find all words starting with 'a' or 'e' in a given string."
   ],
   "cell_type": "markdown",
   "metadata": {}
  },
  {
   "cell_type": "code",
   "execution_count": 49,
   "metadata": {},
   "outputs": [
    {
     "output_type": "stream",
     "name": "stdout",
     "text": [
      "['example', 'eates', 'an', 'ArrayList', 'apacity', 'elements', 'elements', 'are', 'en', 'added', 'ArrayList', 'and', 'ArrayList', 'ed', 'accordingly']\n"
     ]
    }
   ],
   "source": [
    "def a_or_e(string):\n",
    "    finder = re.findall('[aeAE]\\w+', string)\n",
    "    print(finder)\n",
    "\n",
    "a_or_e(\"The following example creates an ArrayList with a capacity of 50 elements. Four elements are then added to the ArrayList and the ArrayList is trimmed accordingly.\")"
   ]
  },
  {
   "source": [
    "29. Write a Python program to separate and print the numbers and their position of a given string."
   ],
   "cell_type": "markdown",
   "metadata": {}
  },
  {
   "cell_type": "code",
   "execution_count": 55,
   "metadata": {},
   "outputs": [
    {
     "output_type": "stream",
     "name": "stdout",
     "text": [
      "1, starts at 6, ends at 7\n2, starts at 34, ends at 35\n"
     ]
    }
   ],
   "source": [
    "def find_number(string):\n",
    "    finder = re.finditer('\\d+', string)\n",
    "    for i in finder:\n",
    "        print(f'{i.group(0)}, starts at {i.start()}, ends at {i.end()}')\n",
    "\n",
    "find_number('I saw 1 number, no wait there are 2')"
   ]
  },
  {
   "source": [
    "30. Write a Python program to abbreviate 'Road' as 'Rd.' in a given string."
   ],
   "cell_type": "markdown",
   "metadata": {}
  },
  {
   "cell_type": "code",
   "execution_count": 58,
   "metadata": {},
   "outputs": [
    {
     "output_type": "stream",
     "name": "stdout",
     "text": [
      "This Rd, not that Rd\n"
     ]
    }
   ],
   "source": [
    "def road_abbreviation(string):\n",
    "    print(re.sub('Road', 'Rd', string))\n",
    "\n",
    "road_abbreviation('This Road, not that Road')"
   ]
  },
  {
   "source": [
    "31. Write a Python program to replace all occurrences of space, comma, or dot with a colon."
   ],
   "cell_type": "markdown",
   "metadata": {}
  },
  {
   "source": [
    "32. Write a Python program to replace maximum 2 occurrences of space, comma, or dot with a colon."
   ],
   "cell_type": "markdown",
   "metadata": {}
  },
  {
   "source": [
    "33. Write a Python program to find all five characters long word in a string."
   ],
   "cell_type": "markdown",
   "metadata": {}
  },
  {
   "source": [
    "34. Write a Python program to find all three, four, five characters long words in a string."
   ],
   "cell_type": "markdown",
   "metadata": {}
  },
  {
   "source": [
    "35. Write a Python program to find all words which are at least 4 characters long in a string."
   ],
   "cell_type": "markdown",
   "metadata": {}
  },
  {
   "source": [
    "36. Write a python program to convert camel case string to snake case string."
   ],
   "cell_type": "markdown",
   "metadata": {}
  },
  {
   "source": [
    "37. Write a python program to convert snake case string to camel case string."
   ],
   "cell_type": "markdown",
   "metadata": {}
  },
  {
   "source": [
    "38. Write a Python program to extract values between quotation marks of a string."
   ],
   "cell_type": "markdown",
   "metadata": {}
  },
  {
   "source": [
    "39. Write a Python program to remove multiple spaces in a string."
   ],
   "cell_type": "markdown",
   "metadata": {}
  },
  {
   "source": [
    "40. Write a Python program to remove all whitespaces from a string."
   ],
   "cell_type": "markdown",
   "metadata": {}
  },
  {
   "source": [
    "41. Write a Python program to remove everything except alphanumeric characters from a string."
   ],
   "cell_type": "markdown",
   "metadata": {}
  },
  {
   "source": [
    "42. Write a Python program to find urls in a string. "
   ],
   "cell_type": "markdown",
   "metadata": {}
  },
  {
   "source": [
    "43. Write a Python program to split a string at uppercase letters."
   ],
   "cell_type": "markdown",
   "metadata": {}
  },
  {
   "source": [
    "44. Write a Python program to do a case-insensitive string replacement."
   ],
   "cell_type": "markdown",
   "metadata": {}
  },
  {
   "source": [
    "45. Write a Python program to remove the ANSI escape sequences from a string."
   ],
   "cell_type": "markdown",
   "metadata": {}
  },
  {
   "source": [
    "46. Write a Python program to find all adverbs and their positions in a given sentence.\n",
    "\n",
    "Sample text : \"Clearly, he has no excuse for such behavior.\""
   ],
   "cell_type": "markdown",
   "metadata": {}
  },
  {
   "source": [
    "47. Write a Python program to split a string with multiple delimiters.\n",
    "\n",
    "Note : A delimiter is a sequence of one or more characters used to specify the boundary between separate, independent regions in plain text or other data streams. An example of a delimiter is the comma character, which acts as a field delimiter in a sequence of comma-separated values."
   ],
   "cell_type": "markdown",
   "metadata": {}
  },
  {
   "source": [
    "48. Write a Python program to check a decimal with a precision of 2."
   ],
   "cell_type": "markdown",
   "metadata": {}
  },
  {
   "source": [
    "49. Write a Python program to remove words from a string of length between 1 and a given number."
   ],
   "cell_type": "markdown",
   "metadata": {}
  },
  {
   "source": [
    "50. Write a Python program to remove the parenthesis area in a string.\n",
    "Sample data : [\"example (.com)\", \"w3resource\", \"github (.com)\", \"stackoverflow (.com)\"]\n",
    "Expected Output:\n",
    "example\n",
    "w3resource\n",
    "github\n",
    "stackoverflow"
   ],
   "cell_type": "markdown",
   "metadata": {}
  },
  {
   "source": [
    "51. Write a Python program to insert spaces between words starting with capital letters."
   ],
   "cell_type": "markdown",
   "metadata": {}
  },
  {
   "source": [
    "52. Write a Python program that reads a given expression and evaluates it.\n",
    "Terms and conditions:\n",
    "The expression consists of numerical values, operators and parentheses, and the ends with '='.\n",
    "The operators includes +, -, *, / where, represents, addition, subtraction, multiplication and division.\n",
    "When two operators have the same precedence, they are applied to left to right.\n",
    "You may assume that there is no division by zero.\n",
    "All calculation is performed as integers, and after the decimal point should be truncated Length of the expression will not exceed 100.\n",
    "-1 ? 10 9 = intermediate results of computation = 10 9"
   ],
   "cell_type": "markdown",
   "metadata": {}
  },
  {
   "source": [
    "53. Write a Python program to remove lowercase substrings from a given string."
   ],
   "cell_type": "markdown",
   "metadata": {}
  }
 ]
}